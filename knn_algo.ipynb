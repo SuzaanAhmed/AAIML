{
 "cells": [
  {
   "cell_type": "code",
   "execution_count": 1,
   "id": "baa57eae",
   "metadata": {},
   "outputs": [],
   "source": [
    "import csv\n",
    "import matplotlib.pyplot as plt\n"
   ]
  },
  {
   "cell_type": "code",
   "execution_count": 2,
   "id": "b4121305",
   "metadata": {},
   "outputs": [],
   "source": [
    "\n",
    "labels = []\n",
    "values = []\n"
   ]
  },
  {
   "cell_type": "code",
   "execution_count": 3,
   "id": "a89e589b",
   "metadata": {},
   "outputs": [],
   "source": [
    "with open('Iris.csv', newline='') as csvf:\n",
    "    reader = csv.reader(csvf, delimiter=',')\n",
    "    \n",
    "    labels.append(next(reader))  # Reads the header row\n",
    "    c=0\n",
    "    for row in reader:\n",
    "        values.append(row)  \n",
    "        \n"
   ]
  },
  {
   "cell_type": "code",
   "execution_count": 4,
   "id": "9d3a3ec7",
   "metadata": {},
   "outputs": [],
   "source": [
    "n=len(values)\n",
    "\n",
    "test_size=int(.2*n)\n",
    "train_size=n-test_size\n",
    "\n",
    "train_data=values[:train_size]\n",
    "test_data=values[train_size:]\n"
   ]
  },
  {
   "cell_type": "code",
   "execution_count": 7,
   "id": "8418c9a4",
   "metadata": {},
   "outputs": [
    {
     "data": {
      "text/plain": [
       "[['1', '5.1', '3.5', '1.4', '0.2', 'Iris-setosa'],\n",
       " ['2', '4.9', '3.0', '1.4', '0.2', 'Iris-setosa'],\n",
       " ['3', '4.7', '3.2', '1.3', '0.2', 'Iris-setosa'],\n",
       " ['4', '4.6', '3.1', '1.5', '0.2', 'Iris-setosa'],\n",
       " ['5', '5.0', '3.6', '1.4', '0.2', 'Iris-setosa'],\n",
       " ['6', '5.4', '3.9', '1.7', '0.4', 'Iris-setosa'],\n",
       " ['7', '4.6', '3.4', '1.4', '0.3', 'Iris-setosa'],\n",
       " ['8', '5.0', '3.4', '1.5', '0.2', 'Iris-setosa'],\n",
       " ['9', '4.4', '2.9', '1.4', '0.2', 'Iris-setosa'],\n",
       " ['10', '4.9', '3.1', '1.5', '0.1', 'Iris-setosa'],\n",
       " ['11', '5.4', '3.7', '1.5', '0.2', 'Iris-setosa'],\n",
       " ['12', '4.8', '3.4', '1.6', '0.2', 'Iris-setosa'],\n",
       " ['13', '4.8', '3.0', '1.4', '0.1', 'Iris-setosa'],\n",
       " ['14', '4.3', '3.0', '1.1', '0.1', 'Iris-setosa'],\n",
       " ['15', '5.8', '4.0', '1.2', '0.2', 'Iris-setosa'],\n",
       " ['16', '5.7', '4.4', '1.5', '0.4', 'Iris-setosa'],\n",
       " ['17', '5.4', '3.9', '1.3', '0.4', 'Iris-setosa'],\n",
       " ['18', '5.1', '3.5', '1.4', '0.3', 'Iris-setosa'],\n",
       " ['19', '5.7', '3.8', '1.7', '0.3', 'Iris-setosa'],\n",
       " ['20', '5.1', '3.8', '1.5', '0.3', 'Iris-setosa'],\n",
       " ['21', '5.4', '3.4', '1.7', '0.2', 'Iris-setosa'],\n",
       " ['22', '5.1', '3.7', '1.5', '0.4', 'Iris-setosa'],\n",
       " ['23', '4.6', '3.6', '1.0', '0.2', 'Iris-setosa'],\n",
       " ['24', '5.1', '3.3', '1.7', '0.5', 'Iris-setosa'],\n",
       " ['25', '4.8', '3.4', '1.9', '0.2', 'Iris-setosa'],\n",
       " ['26', '5.0', '3.0', '1.6', '0.2', 'Iris-setosa'],\n",
       " ['27', '5.0', '3.4', '1.6', '0.4', 'Iris-setosa'],\n",
       " ['28', '5.2', '3.5', '1.5', '0.2', 'Iris-setosa'],\n",
       " ['29', '5.2', '3.4', '1.4', '0.2', 'Iris-setosa'],\n",
       " ['30', '4.7', '3.2', '1.6', '0.2', 'Iris-setosa'],\n",
       " ['31', '4.8', '3.1', '1.6', '0.2', 'Iris-setosa'],\n",
       " ['32', '5.4', '3.4', '1.5', '0.4', 'Iris-setosa'],\n",
       " ['33', '5.2', '4.1', '1.5', '0.1', 'Iris-setosa'],\n",
       " ['34', '5.5', '4.2', '1.4', '0.2', 'Iris-setosa'],\n",
       " ['35', '4.9', '3.1', '1.5', '0.1', 'Iris-setosa'],\n",
       " ['36', '5.0', '3.2', '1.2', '0.2', 'Iris-setosa'],\n",
       " ['37', '5.5', '3.5', '1.3', '0.2', 'Iris-setosa'],\n",
       " ['38', '4.9', '3.1', '1.5', '0.1', 'Iris-setosa'],\n",
       " ['39', '4.4', '3.0', '1.3', '0.2', 'Iris-setosa'],\n",
       " ['40', '5.1', '3.4', '1.5', '0.2', 'Iris-setosa'],\n",
       " ['41', '5.0', '3.5', '1.3', '0.3', 'Iris-setosa'],\n",
       " ['42', '4.5', '2.3', '1.3', '0.3', 'Iris-setosa'],\n",
       " ['43', '4.4', '3.2', '1.3', '0.2', 'Iris-setosa'],\n",
       " ['44', '5.0', '3.5', '1.6', '0.6', 'Iris-setosa'],\n",
       " ['45', '5.1', '3.8', '1.9', '0.4', 'Iris-setosa'],\n",
       " ['46', '4.8', '3.0', '1.4', '0.3', 'Iris-setosa'],\n",
       " ['47', '5.1', '3.8', '1.6', '0.2', 'Iris-setosa'],\n",
       " ['48', '4.6', '3.2', '1.4', '0.2', 'Iris-setosa'],\n",
       " ['49', '5.3', '3.7', '1.5', '0.2', 'Iris-setosa'],\n",
       " ['50', '5.0', '3.3', '1.4', '0.2', 'Iris-setosa'],\n",
       " ['51', '7.0', '3.2', '4.7', '1.4', 'Iris-versicolor'],\n",
       " ['52', '6.4', '3.2', '4.5', '1.5', 'Iris-versicolor'],\n",
       " ['53', '6.9', '3.1', '4.9', '1.5', 'Iris-versicolor'],\n",
       " ['54', '5.5', '2.3', '4.0', '1.3', 'Iris-versicolor'],\n",
       " ['55', '6.5', '2.8', '4.6', '1.5', 'Iris-versicolor'],\n",
       " ['56', '5.7', '2.8', '4.5', '1.3', 'Iris-versicolor'],\n",
       " ['57', '6.3', '3.3', '4.7', '1.6', 'Iris-versicolor'],\n",
       " ['58', '4.9', '2.4', '3.3', '1.0', 'Iris-versicolor'],\n",
       " ['59', '6.6', '2.9', '4.6', '1.3', 'Iris-versicolor'],\n",
       " ['60', '5.2', '2.7', '3.9', '1.4', 'Iris-versicolor'],\n",
       " ['61', '5.0', '2.0', '3.5', '1.0', 'Iris-versicolor'],\n",
       " ['62', '5.9', '3.0', '4.2', '1.5', 'Iris-versicolor'],\n",
       " ['63', '6.0', '2.2', '4.0', '1.0', 'Iris-versicolor'],\n",
       " ['64', '6.1', '2.9', '4.7', '1.4', 'Iris-versicolor'],\n",
       " ['65', '5.6', '2.9', '3.6', '1.3', 'Iris-versicolor'],\n",
       " ['66', '6.7', '3.1', '4.4', '1.4', 'Iris-versicolor'],\n",
       " ['67', '5.6', '3.0', '4.5', '1.5', 'Iris-versicolor'],\n",
       " ['68', '5.8', '2.7', '4.1', '1.0', 'Iris-versicolor'],\n",
       " ['69', '6.2', '2.2', '4.5', '1.5', 'Iris-versicolor'],\n",
       " ['70', '5.6', '2.5', '3.9', '1.1', 'Iris-versicolor'],\n",
       " ['71', '5.9', '3.2', '4.8', '1.8', 'Iris-versicolor'],\n",
       " ['72', '6.1', '2.8', '4.0', '1.3', 'Iris-versicolor'],\n",
       " ['73', '6.3', '2.5', '4.9', '1.5', 'Iris-versicolor'],\n",
       " ['74', '6.1', '2.8', '4.7', '1.2', 'Iris-versicolor'],\n",
       " ['75', '6.4', '2.9', '4.3', '1.3', 'Iris-versicolor'],\n",
       " ['76', '6.6', '3.0', '4.4', '1.4', 'Iris-versicolor'],\n",
       " ['77', '6.8', '2.8', '4.8', '1.4', 'Iris-versicolor'],\n",
       " ['78', '6.7', '3.0', '5.0', '1.7', 'Iris-versicolor'],\n",
       " ['79', '6.0', '2.9', '4.5', '1.5', 'Iris-versicolor'],\n",
       " ['80', '5.7', '2.6', '3.5', '1.0', 'Iris-versicolor'],\n",
       " ['81', '5.5', '2.4', '3.8', '1.1', 'Iris-versicolor'],\n",
       " ['82', '5.5', '2.4', '3.7', '1.0', 'Iris-versicolor'],\n",
       " ['83', '5.8', '2.7', '3.9', '1.2', 'Iris-versicolor'],\n",
       " ['84', '6.0', '2.7', '5.1', '1.6', 'Iris-versicolor'],\n",
       " ['85', '5.4', '3.0', '4.5', '1.5', 'Iris-versicolor'],\n",
       " ['86', '6.0', '3.4', '4.5', '1.6', 'Iris-versicolor'],\n",
       " ['87', '6.7', '3.1', '4.7', '1.5', 'Iris-versicolor'],\n",
       " ['88', '6.3', '2.3', '4.4', '1.3', 'Iris-versicolor'],\n",
       " ['89', '5.6', '3.0', '4.1', '1.3', 'Iris-versicolor'],\n",
       " ['90', '5.5', '2.5', '4.0', '1.3', 'Iris-versicolor'],\n",
       " ['91', '5.5', '2.6', '4.4', '1.2', 'Iris-versicolor'],\n",
       " ['92', '6.1', '3.0', '4.6', '1.4', 'Iris-versicolor'],\n",
       " ['93', '5.8', '2.6', '4.0', '1.2', 'Iris-versicolor'],\n",
       " ['94', '5.0', '2.3', '3.3', '1.0', 'Iris-versicolor'],\n",
       " ['95', '5.6', '2.7', '4.2', '1.3', 'Iris-versicolor'],\n",
       " ['96', '5.7', '3.0', '4.2', '1.2', 'Iris-versicolor'],\n",
       " ['97', '5.7', '2.9', '4.2', '1.3', 'Iris-versicolor'],\n",
       " ['98', '6.2', '2.9', '4.3', '1.3', 'Iris-versicolor'],\n",
       " ['99', '5.1', '2.5', '3.0', '1.1', 'Iris-versicolor'],\n",
       " ['100', '5.7', '2.8', '4.1', '1.3', 'Iris-versicolor'],\n",
       " ['101', '6.3', '3.3', '6.0', '2.5', 'Iris-virginica'],\n",
       " ['102', '5.8', '2.7', '5.1', '1.9', 'Iris-virginica'],\n",
       " ['103', '7.1', '3.0', '5.9', '2.1', 'Iris-virginica'],\n",
       " ['104', '6.3', '2.9', '5.6', '1.8', 'Iris-virginica'],\n",
       " ['105', '6.5', '3.0', '5.8', '2.2', 'Iris-virginica'],\n",
       " ['106', '7.6', '3.0', '6.6', '2.1', 'Iris-virginica'],\n",
       " ['107', '4.9', '2.5', '4.5', '1.7', 'Iris-virginica'],\n",
       " ['108', '7.3', '2.9', '6.3', '1.8', 'Iris-virginica'],\n",
       " ['109', '6.7', '2.5', '5.8', '1.8', 'Iris-virginica'],\n",
       " ['110', '7.2', '3.6', '6.1', '2.5', 'Iris-virginica'],\n",
       " ['111', '6.5', '3.2', '5.1', '2.0', 'Iris-virginica'],\n",
       " ['112', '6.4', '2.7', '5.3', '1.9', 'Iris-virginica'],\n",
       " ['113', '6.8', '3.0', '5.5', '2.1', 'Iris-virginica'],\n",
       " ['114', '5.7', '2.5', '5.0', '2.0', 'Iris-virginica'],\n",
       " ['115', '5.8', '2.8', '5.1', '2.4', 'Iris-virginica'],\n",
       " ['116', '6.4', '3.2', '5.3', '2.3', 'Iris-virginica'],\n",
       " ['117', '6.5', '3.0', '5.5', '1.8', 'Iris-virginica'],\n",
       " ['118', '7.7', '3.8', '6.7', '2.2', 'Iris-virginica'],\n",
       " ['119', '7.7', '2.6', '6.9', '2.3', 'Iris-virginica'],\n",
       " ['120', '6.0', '2.2', '5.0', '1.5', 'Iris-virginica']]"
      ]
     },
     "execution_count": 7,
     "metadata": {},
     "output_type": "execute_result"
    }
   ],
   "source": [
    "train_data"
   ]
  },
  {
   "cell_type": "code",
   "execution_count": 9,
   "id": "2cc1d027",
   "metadata": {},
   "outputs": [
    {
     "data": {
      "text/plain": [
       "[['121', '6.9', '3.2', '5.7', '2.3', 'Iris-virginica'],\n",
       " ['122', '5.6', '2.8', '4.9', '2.0', 'Iris-virginica'],\n",
       " ['123', '7.7', '2.8', '6.7', '2.0', 'Iris-virginica'],\n",
       " ['124', '6.3', '2.7', '4.9', '1.8', 'Iris-virginica'],\n",
       " ['125', '6.7', '3.3', '5.7', '2.1', 'Iris-virginica'],\n",
       " ['126', '7.2', '3.2', '6.0', '1.8', 'Iris-virginica'],\n",
       " ['127', '6.2', '2.8', '4.8', '1.8', 'Iris-virginica'],\n",
       " ['128', '6.1', '3.0', '4.9', '1.8', 'Iris-virginica'],\n",
       " ['129', '6.4', '2.8', '5.6', '2.1', 'Iris-virginica'],\n",
       " ['130', '7.2', '3.0', '5.8', '1.6', 'Iris-virginica'],\n",
       " ['131', '7.4', '2.8', '6.1', '1.9', 'Iris-virginica'],\n",
       " ['132', '7.9', '3.8', '6.4', '2.0', 'Iris-virginica'],\n",
       " ['133', '6.4', '2.8', '5.6', '2.2', 'Iris-virginica'],\n",
       " ['134', '6.3', '2.8', '5.1', '1.5', 'Iris-virginica'],\n",
       " ['135', '6.1', '2.6', '5.6', '1.4', 'Iris-virginica'],\n",
       " ['136', '7.7', '3.0', '6.1', '2.3', 'Iris-virginica'],\n",
       " ['137', '6.3', '3.4', '5.6', '2.4', 'Iris-virginica'],\n",
       " ['138', '6.4', '3.1', '5.5', '1.8', 'Iris-virginica'],\n",
       " ['139', '6.0', '3.0', '4.8', '1.8', 'Iris-virginica'],\n",
       " ['140', '6.9', '3.1', '5.4', '2.1', 'Iris-virginica'],\n",
       " ['141', '6.7', '3.1', '5.6', '2.4', 'Iris-virginica'],\n",
       " ['142', '6.9', '3.1', '5.1', '2.3', 'Iris-virginica'],\n",
       " ['143', '5.8', '2.7', '5.1', '1.9', 'Iris-virginica'],\n",
       " ['144', '6.8', '3.2', '5.9', '2.3', 'Iris-virginica'],\n",
       " ['145', '6.7', '3.3', '5.7', '2.5', 'Iris-virginica'],\n",
       " ['146', '6.7', '3.0', '5.2', '2.3', 'Iris-virginica'],\n",
       " ['147', '6.3', '2.5', '5.0', '1.9', 'Iris-virginica'],\n",
       " ['148', '6.5', '3.0', '5.2', '2.0', 'Iris-virginica'],\n",
       " ['149', '6.2', '3.4', '5.4', '2.3', 'Iris-virginica'],\n",
       " ['150', '5.9', '3.0', '5.1', '1.8', 'Iris-virginica']]"
      ]
     },
     "execution_count": 9,
     "metadata": {},
     "output_type": "execute_result"
    }
   ],
   "source": [
    "test_data"
   ]
  },
  {
   "cell_type": "code",
   "execution_count": null,
   "id": "7d17d819",
   "metadata": {},
   "outputs": [
    {
     "data": {
      "image/png": "[encoded data removed]",
      "text/plain": [
       "<Figure size 640x480 with 1 Axes>"
      ]
     },
     "metadata": {},
     "output_type": "display_data"
    }
   ],
   "source": [
    "plt.scatter(\n",
    "    [float(i[1]) + float(i[2]) / 2 for i in train_data if i[5] == \"Iris-setosa\"],\n",
    "    [float(i[3]) + float(i[4]) / 2 for i in train_data if i[5] == \"Iris-setosa\"],\n",
    "    color='red',\n",
    "    label='Iris-setosa',  \n",
    "    marker='x'\n",
    ")\n",
    "\n",
    "\n",
    "plt.scatter(\n",
    "    [float(i[1]) + float(i[2]) / 2 for i in train_data if i[5] == \"Iris-versicolor\"],\n",
    "    [float(i[3]) + float(i[4]) / 2 for i in train_data if i[5] == \"Iris-versicolor\"],\n",
    "    color='blue', \n",
    "    label='Iris-versicolor', \n",
    "    marker='+'\n",
    ")\n",
    "\n",
    "\n",
    "plt.scatter(\n",
    "    [float(i[1]) + float(i[2]) / 2 for i in train_data if i[5] == \"Iris-virginica\"],\n",
    "    [float(i[3]) + float(i[4]) / 2 for i in train_data if i[5] == \"Iris-virginica\"],\n",
    "    color='green',\n",
    "    label='Iris-virginica', \n",
    "    marker='*'\n",
    ")\n",
    "\n",
    "plt.xlabel(f\"Average of {labels[0][1]} and {labels[0][2]}\")\n",
    "plt.ylabel(f\"Average of {labels[0][3]} and {labels[0][4]}\")\n",
    "\n",
    "plt.title('Iris Dataset Visualization')\n",
    "plt.legend()\n",
    "plt.grid(True)\n",
    "plt.show()"
   ]
  },
  {
   "cell_type": "code",
   "execution_count": null,
   "id": "1be2698b",
   "metadata": {},
   "outputs": [],
   "source": []
  }
 ],
 "metadata": {
  "kernelspec": {
   "display_name": "Python 3",
   "language": "python",
   "name": "python3"
  },
  "language_info": {
   "codemirror_mode": {
    "name": "ipython",
    "version": 3
   },
   "file_extension": ".py",
   "mimetype": "text/x-python",
   "name": "python",
   "nbconvert_exporter": "python",
   "pygments_lexer": "ipython3",
   "version": "3.9.13"
  }
 },
 "nbformat": 4,
 "nbformat_minor": 5
}
